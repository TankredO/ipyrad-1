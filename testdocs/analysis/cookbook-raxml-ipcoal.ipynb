{
 "cells": [
  {
   "cell_type": "markdown",
   "metadata": {},
   "source": [
    "# <span style=\"color:gray\">ipyrad-analysis toolkit:</span> RAxML\n",
    "\n",
    "RAxML is one of the most popular tools for inferring phylogenetic trees using maximum likelihood. It is fast even for very large data sets. The documentation for raxml is huge, and there are many options. However, I tend to use the same small number of options very frequently, which motivated me to write the `ipa.raxml()` tool to automate the process of generating RAxml command line strings, running them, and accessing the resulting tree files. The simplicity of this tool makes it easy to incorporate into other more complex tools, for example, to infer tress in sliding windows along the genome using the `ipa.treeslider` tool.\n",
    "\n"
   ]
  },
  {
   "cell_type": "markdown",
   "metadata": {},
   "source": [
    "### Required software"
   ]
  },
  {
   "cell_type": "code",
   "execution_count": 1,
   "metadata": {},
   "outputs": [],
   "source": [
    "# conda install ipyrad -c conda-forge -c bioconda\n",
    "# conda install raxml -c conda-forge -c bioconda\n",
    "# conda install ipcoal -c conda-forge"
   ]
  },
  {
   "cell_type": "code",
   "execution_count": 2,
   "metadata": {},
   "outputs": [],
   "source": [
    "import ipyrad.analysis as ipa\n",
    "import toytree\n",
    "import ipcoal"
   ]
  },
  {
   "cell_type": "markdown",
   "metadata": {},
   "source": [
    "### Simulate example dataset"
   ]
  },
  {
   "cell_type": "code",
   "execution_count": 3,
   "metadata": {},
   "outputs": [
    {
     "name": "stdout",
     "output_type": "stream",
     "text": [
      "wrote concat locus (10 x 10000bp) to /tmp/raxtest.phy\n"
     ]
    },
    {
     "data": {
      "text/html": [
       "<div class=\"toyplot\" id=\"t051cd96f498f449aab8e28435519efac\" style=\"text-align:center\"><svg class=\"toyplot-canvas-Canvas\" height=\"260.0px\" id=\"t720ea43a15534de88446cd052292f5a3\" preserveAspectRatio=\"xMidYMid meet\" style=\"background-color:transparent;border-color:#292724;border-style:none;border-width:1.0;fill:rgb(16.1%,15.3%,14.1%);fill-opacity:1.0;font-family:Helvetica;font-size:12px;opacity:1.0;stroke:rgb(16.1%,15.3%,14.1%);stroke-opacity:1.0;stroke-width:1.0\" viewBox=\"0 0 350.0 260.0\" width=\"350.0px\" xmlns=\"http://www.w3.org/2000/svg\" xmlns:toyplot=\"http://www.sandia.gov/toyplot\" xmlns:xlink=\"http://www.w3.org/1999/xlink\"><g class=\"toyplot-coordinates-Cartesian\" id=\"te961401d7fb8405d980bf051767a0b38\"><clipPath id=\"t837ae54222c3417f974a42133e21af4f\"><rect height=\"200.0\" width=\"290.0\" x=\"30.0\" y=\"30.0\"></rect></clipPath><g clip-path=\"url(#t837ae54222c3417f974a42133e21af4f)\"><g class=\"toytree-mark-Toytree\" id=\"tafb1956d7909464db124f6661a6f2e0f\"><g class=\"toytree-Edges\" style=\"fill:none;stroke:rgb(14.9%,14.9%,14.9%);stroke-linecap:round;stroke-opacity:1;stroke-width:2\"><path d=\"M 261.9 61.5 L 237.1 75.1\" id=\"18,17\"></path><path d=\"M 237.1 75.1 L 212.4 88.8\" id=\"17,16\"></path><path d=\"M 212.4 88.8 L 187.8 102.4\" id=\"16,15\"></path><path d=\"M 187.8 102.4 L 163.4 116.0\" id=\"15,14\"></path><path d=\"M 163.4 116.0 L 139.3 129.7\" id=\"14,13\"></path><path d=\"M 139.3 129.7 L 116.1 143.3\" id=\"13,12\"></path><path d=\"M 116.1 143.3 L 94.4 156.9\" id=\"12,11\"></path><path d=\"M 94.4 156.9 L 75.8 170.6\" id=\"11,10\"></path><path d=\"M 261.9 61.5 L 286.6 184.2\" id=\"18,9\"></path><path d=\"M 237.1 75.1 L 261.8 184.2\" id=\"17,8\"></path><path d=\"M 212.4 88.8 L 237.0 184.2\" id=\"16,7\"></path><path d=\"M 187.8 102.4 L 212.2 184.2\" id=\"15,6\"></path><path d=\"M 163.4 116.0 L 187.4 184.2\" id=\"14,5\"></path><path d=\"M 139.3 129.7 L 162.6 184.2\" id=\"13,4\"></path><path d=\"M 116.1 143.3 L 137.8 184.2\" id=\"12,3\"></path><path d=\"M 94.4 156.9 L 113.0 184.2\" id=\"11,2\"></path><path d=\"M 75.8 170.6 L 88.2 184.2\" id=\"10,1\"></path><path d=\"M 75.8 170.6 L 63.4 184.2\" id=\"10,0\"></path></g><g class=\"toytree-Nodes\" style=\"fill:rgb(40%,76.1%,64.7%);fill-opacity:1.0;stroke:rgb(14.9%,14.9%,14.9%);stroke-opacity:1.0;stroke-width:1\"><g id=\"node-0\" transform=\"translate(63.393,184.184)\"><circle r=\"7.5\"></circle></g><g id=\"node-1\" transform=\"translate(88.194,184.184)\"><circle r=\"7.5\"></circle></g><g id=\"node-2\" transform=\"translate(112.996,184.184)\"><circle r=\"7.5\"></circle></g><g id=\"node-3\" transform=\"translate(137.798,184.184)\"><circle r=\"7.5\"></circle></g><g id=\"node-4\" transform=\"translate(162.599,184.184)\"><circle r=\"7.5\"></circle></g><g id=\"node-5\" transform=\"translate(187.401,184.184)\"><circle r=\"7.5\"></circle></g><g id=\"node-6\" transform=\"translate(212.202,184.184)\"><circle r=\"7.5\"></circle></g><g id=\"node-7\" transform=\"translate(237.004,184.184)\"><circle r=\"7.5\"></circle></g><g id=\"node-8\" transform=\"translate(261.806,184.184)\"><circle r=\"7.5\"></circle></g><g id=\"node-9\" transform=\"translate(286.607,184.184)\"><circle r=\"7.5\"></circle></g><g id=\"node-10\" transform=\"translate(75.794,170.552)\"><circle r=\"7.5\"></circle></g><g id=\"node-11\" transform=\"translate(94.395,156.921)\"><circle r=\"7.5\"></circle></g><g id=\"node-12\" transform=\"translate(116.096,143.290)\"><circle r=\"7.5\"></circle></g><g id=\"node-13\" transform=\"translate(139.348,129.658)\"><circle r=\"7.5\"></circle></g><g id=\"node-14\" transform=\"translate(163.374,116.027)\"><circle r=\"7.5\"></circle></g><g id=\"node-15\" transform=\"translate(187.788,102.396)\"><circle r=\"7.5\"></circle></g><g id=\"node-16\" transform=\"translate(212.396,88.764)\"><circle r=\"7.5\"></circle></g><g id=\"node-17\" transform=\"translate(237.101,75.133)\"><circle r=\"7.5\"></circle></g><g id=\"node-18\" transform=\"translate(261.854,61.501)\"><circle r=\"7.5\"></circle></g></g><g class=\"toytree-NodeLabels\" style=\"fill:rgb(14.9%,14.9%,14.9%);fill-opacity:1.0;font-size:9px;stroke:none\"><g transform=\"translate(60.89,186.48)\"><text>0</text></g><g transform=\"translate(85.69,186.48)\"><text>1</text></g><g transform=\"translate(110.49,186.48)\"><text>2</text></g><g transform=\"translate(135.30,186.48)\"><text>3</text></g><g transform=\"translate(160.10,186.48)\"><text>4</text></g><g transform=\"translate(184.90,186.48)\"><text>5</text></g><g transform=\"translate(209.70,186.48)\"><text>6</text></g><g transform=\"translate(234.50,186.48)\"><text>7</text></g><g transform=\"translate(259.30,186.48)\"><text>8</text></g><g transform=\"translate(284.11,186.48)\"><text>9</text></g><g transform=\"translate(70.79,172.85)\"><text>10</text></g><g transform=\"translate(89.39,159.22)\"><text>11</text></g><g transform=\"translate(111.09,145.59)\"><text>12</text></g><g transform=\"translate(134.34,131.96)\"><text>13</text></g><g transform=\"translate(158.37,118.33)\"><text>14</text></g><g transform=\"translate(182.78,104.70)\"><text>15</text></g><g transform=\"translate(207.39,91.06)\"><text>16</text></g><g transform=\"translate(232.10,77.43)\"><text>17</text></g><g transform=\"translate(256.85,63.80)\"><text>18</text></g></g><g class=\"toytree-TipLabels\" style=\"fill:rgb(14.9%,14.9%,14.9%);fill-opacity:1.0;font-family:helvetica;font-size:11px;font-weight:normal;stroke:none;white-space:pre\"><g transform=\"translate(63.39,184.18)rotate(-90)\"><text style=\"\" x=\"-24.78\" y=\"2.81\">r0</text></g><g transform=\"translate(88.19,184.18)rotate(-90)\"><text style=\"\" x=\"-24.78\" y=\"2.81\">r1</text></g><g transform=\"translate(113.00,184.18)rotate(-90)\"><text style=\"\" x=\"-24.78\" y=\"2.81\">r2</text></g><g transform=\"translate(137.80,184.18)rotate(-90)\"><text style=\"\" x=\"-24.78\" y=\"2.81\">r3</text></g><g transform=\"translate(162.60,184.18)rotate(-90)\"><text style=\"\" x=\"-24.78\" y=\"2.81\">r4</text></g><g transform=\"translate(187.40,184.18)rotate(-90)\"><text style=\"\" x=\"-24.78\" y=\"2.81\">r5</text></g><g transform=\"translate(212.20,184.18)rotate(-90)\"><text style=\"\" x=\"-24.78\" y=\"2.81\">r6</text></g><g transform=\"translate(237.00,184.18)rotate(-90)\"><text style=\"\" x=\"-24.78\" y=\"2.81\">r7</text></g><g transform=\"translate(261.81,184.18)rotate(-90)\"><text style=\"\" x=\"-24.78\" y=\"2.81\">r8</text></g><g transform=\"translate(286.61,184.18)rotate(-90)\"><text style=\"\" x=\"-24.78\" y=\"2.81\">r9</text></g></g></g></g><g class=\"toyplot-coordinates-Axis\" id=\"t26612cae5e694d65a2483477399559ae\" transform=\"translate(50.0,210.0)rotate(-90.0)translate(0,-20.0)\"><line style=\"\" x1=\"25.816196943484645\" x2=\"148.4985311665844\" y1=\"0\" y2=\"0\"></line><g><line style=\"\" x1=\"25.816196943484645\" x2=\"25.816196943484645\" y1=\"0\" y2=\"5\"></line><line style=\"\" x1=\"87.1573640550345\" x2=\"87.1573640550345\" y1=\"0\" y2=\"5\"></line><line style=\"\" x1=\"148.4985311665844\" x2=\"148.4985311665844\" y1=\"0\" y2=\"5\"></line></g><g><g transform=\"translate(25.816196943484645,-6)\"><text style=\"fill:rgb(16.1%,15.3%,14.1%);fill-opacity:1.0;font-family:helvetica;font-size:10.0px;font-weight:normal;stroke:none;vertical-align:baseline;white-space:pre\" x=\"-2.78\" y=\"-4.440892098500626e-16\">0</text></g><g transform=\"translate(87.1573640550345,-6)\"><text style=\"fill:rgb(16.1%,15.3%,14.1%);fill-opacity:1.0;font-family:helvetica;font-size:10.0px;font-weight:normal;stroke:none;vertical-align:baseline;white-space:pre\" x=\"-19.459999999999997\" y=\"-4.440892098500626e-16\">5000000</text></g><g transform=\"translate(148.4985311665844,-6)\"><text style=\"fill:rgb(16.1%,15.3%,14.1%);fill-opacity:1.0;font-family:helvetica;font-size:10.0px;font-weight:normal;stroke:none;vertical-align:baseline;white-space:pre\" x=\"-22.24\" y=\"-4.440892098500626e-16\">10000000</text></g></g><g class=\"toyplot-coordinates-Axis-coordinates\" style=\"visibility:hidden\" transform=\"\"><line style=\"stroke:rgb(43.9%,50.2%,56.5%);stroke-opacity:1.0;stroke-width:1.0\" x1=\"0\" x2=\"0\" y1=\"3.0\" y2=\"-4.5\"></line><text style=\"alignment-baseline:hanging;fill:rgb(43.9%,50.2%,56.5%);fill-opacity:1.0;font-size:10px;font-weight:normal;stroke:none;text-anchor:middle\" x=\"0\" y=\"6\"></text></g></g></g></svg><div class=\"toyplot-behavior\"><script>(function()\n",
       "{\n",
       "var modules={};\n",
       "modules[\"toyplot/canvas/id\"] = \"t720ea43a15534de88446cd052292f5a3\";\n",
       "modules[\"toyplot/canvas\"] = (function(canvas_id)\n",
       "    {\n",
       "        return document.querySelector(\"#\" + canvas_id);\n",
       "    })(modules[\"toyplot/canvas/id\"]);\n",
       "modules[\"toyplot.coordinates.Axis\"] = (\n",
       "        function(canvas)\n",
       "        {\n",
       "            function sign(x)\n",
       "            {\n",
       "                return x < 0 ? -1 : x > 0 ? 1 : 0;\n",
       "            }\n",
       "\n",
       "            function mix(a, b, amount)\n",
       "            {\n",
       "                return ((1.0 - amount) * a) + (amount * b);\n",
       "            }\n",
       "\n",
       "            function log(x, base)\n",
       "            {\n",
       "                return Math.log(Math.abs(x)) / Math.log(base);\n",
       "            }\n",
       "\n",
       "            function in_range(a, x, b)\n",
       "            {\n",
       "                var left = Math.min(a, b);\n",
       "                var right = Math.max(a, b);\n",
       "                return left <= x && x <= right;\n",
       "            }\n",
       "\n",
       "            function inside(range, projection)\n",
       "            {\n",
       "                for(var i = 0; i != projection.length; ++i)\n",
       "                {\n",
       "                    var segment = projection[i];\n",
       "                    if(in_range(segment.range.min, range, segment.range.max))\n",
       "                        return true;\n",
       "                }\n",
       "                return false;\n",
       "            }\n",
       "\n",
       "            function to_domain(range, projection)\n",
       "            {\n",
       "                for(var i = 0; i != projection.length; ++i)\n",
       "                {\n",
       "                    var segment = projection[i];\n",
       "                    if(in_range(segment.range.bounds.min, range, segment.range.bounds.max))\n",
       "                    {\n",
       "                        if(segment.scale == \"linear\")\n",
       "                        {\n",
       "                            var amount = (range - segment.range.min) / (segment.range.max - segment.range.min);\n",
       "                            return mix(segment.domain.min, segment.domain.max, amount)\n",
       "                        }\n",
       "                        else if(segment.scale[0] == \"log\")\n",
       "                        {\n",
       "                            var amount = (range - segment.range.min) / (segment.range.max - segment.range.min);\n",
       "                            var base = segment.scale[1];\n",
       "                            return sign(segment.domain.min) * Math.pow(base, mix(log(segment.domain.min, base), log(segment.domain.max, base), amount));\n",
       "                        }\n",
       "                    }\n",
       "                }\n",
       "            }\n",
       "\n",
       "            var axes = {};\n",
       "\n",
       "            function display_coordinates(e)\n",
       "            {\n",
       "                var current = canvas.createSVGPoint();\n",
       "                current.x = e.clientX;\n",
       "                current.y = e.clientY;\n",
       "\n",
       "                for(var axis_id in axes)\n",
       "                {\n",
       "                    var axis = document.querySelector(\"#\" + axis_id);\n",
       "                    var coordinates = axis.querySelector(\".toyplot-coordinates-Axis-coordinates\");\n",
       "                    if(coordinates)\n",
       "                    {\n",
       "                        var projection = axes[axis_id];\n",
       "                        var local = current.matrixTransform(axis.getScreenCTM().inverse());\n",
       "                        if(inside(local.x, projection))\n",
       "                        {\n",
       "                            var domain = to_domain(local.x, projection);\n",
       "                            coordinates.style.visibility = \"visible\";\n",
       "                            coordinates.setAttribute(\"transform\", \"translate(\" + local.x + \")\");\n",
       "                            var text = coordinates.querySelector(\"text\");\n",
       "                            text.textContent = domain.toFixed(2);\n",
       "                        }\n",
       "                        else\n",
       "                        {\n",
       "                            coordinates.style.visibility= \"hidden\";\n",
       "                        }\n",
       "                    }\n",
       "                }\n",
       "            }\n",
       "\n",
       "            canvas.addEventListener(\"click\", display_coordinates);\n",
       "\n",
       "            var module = {};\n",
       "            module.show_coordinates = function(axis_id, projection)\n",
       "            {\n",
       "                axes[axis_id] = projection;\n",
       "            }\n",
       "\n",
       "            return module;\n",
       "        })(modules[\"toyplot/canvas\"]);\n",
       "(function(axis, axis_id, projection)\n",
       "        {\n",
       "            axis.show_coordinates(axis_id, projection);\n",
       "        })(modules[\"toyplot.coordinates.Axis\"],\"t26612cae5e694d65a2483477399559ae\",[{\"domain\": {\"bounds\": {\"max\": Infinity, \"min\": -Infinity}, \"max\": 10937500.0, \"min\": -2104312.499999999}, \"range\": {\"bounds\": {\"max\": Infinity, \"min\": -Infinity}, \"max\": 160.0, \"min\": 0.0}, \"scale\": \"linear\"}]);\n",
       "})();</script></div></div>"
      ]
     },
     "metadata": {},
     "output_type": "display_data"
    }
   ],
   "source": [
    "# the true tree\n",
    "tree = toytree.rtree.imbtree(ntips=10, treeheight=1e7)\n",
    "tree.draw(ts='p');\n",
    "\n",
    "# setup simulator\n",
    "subst = {\n",
    "    \"state_frequencies\": [0.3, 0.2, 0.3, 0.2],\n",
    "    \"kappa\": 0.25, \n",
    "    \"gamma\": 0.20,\n",
    "    \"gamma_categories\": 4,\n",
    "}\n",
    "mod = ipcoal.Model(tree=tree, Ne=1e5, nsamples=2, mut=1e-8, substitution_model=subst)\n",
    "mod.sim_loci(nloci=1, nsites=10000)\n",
    "mod.write_concat_to_phylip(name=\"raxtest\", outdir=\"/tmp\", diploid=True)"
   ]
  },
  {
   "cell_type": "markdown",
   "metadata": {},
   "source": [
    "### Infer a ML tree"
   ]
  },
  {
   "cell_type": "code",
   "execution_count": 4,
   "metadata": {},
   "outputs": [
    {
     "name": "stdout",
     "output_type": "stream",
     "text": [
      "/home/deren/miniconda3/envs/scratch/bin/raxmlHPC-PTHREADS-AVX2 -f a -T 4 -m GTRGAMMA -n test -w /home/deren/Documents/ipyrad/testdocs/analysis/analysis-raxml -s /tmp/raxtest.phy -p 54321 -N 100 -x 12345\n",
      "job test finished successfully\n"
     ]
    }
   ],
   "source": [
    "# init raxml object with input data and (optional) parameter options\n",
    "rax = ipa.raxml(data=\"/tmp/raxtest.phy\", T=4, N=100)\n",
    "\n",
    "# print the raxml command string for prosperity\n",
    "print(rax.command)\n",
    "\n",
    "# run the command, (options: block until finishes; overwrite existing)\n",
    "rax.run(block=True, force=True)"
   ]
  },
  {
   "cell_type": "markdown",
   "metadata": {},
   "source": [
    "### Draw the inferred tree\n",
    "After inferring a tree you can then visualize it in a notebook using `toytree`. "
   ]
  },
  {
   "cell_type": "code",
   "execution_count": 12,
   "metadata": {},
   "outputs": [
    {
     "data": {
      "text/html": [
       "<div class=\"toyplot\" id=\"t21b0cada8bb8456b8e0352d80588272c\" style=\"text-align:center\"><svg class=\"toyplot-canvas-Canvas\" height=\"275.0px\" id=\"t08c9167a35d34673bb31918b47343cd0\" preserveAspectRatio=\"xMidYMid meet\" style=\"background-color:transparent;border-color:#292724;border-style:none;border-width:1.0;fill:rgb(16.1%,15.3%,14.1%);fill-opacity:1.0;font-family:Helvetica;font-size:12px;opacity:1.0;stroke:rgb(16.1%,15.3%,14.1%);stroke-opacity:1.0;stroke-width:1.0\" viewBox=\"0 0 260.0 275.0\" width=\"260.0px\" xmlns=\"http://www.w3.org/2000/svg\" xmlns:toyplot=\"http://www.sandia.gov/toyplot\" xmlns:xlink=\"http://www.w3.org/1999/xlink\"><g class=\"toyplot-coordinates-Cartesian\" id=\"td26d4527e839439aadd6bc90e8eda500\"><clipPath id=\"t538b973a34084bdb89be1a1d33df13a4\"><rect height=\"215.0\" width=\"200.0\" x=\"30.0\" y=\"30.0\"></rect></clipPath><g clip-path=\"url(#t538b973a34084bdb89be1a1d33df13a4)\"><g class=\"toytree-mark-Toytree\" id=\"tbd6c6ec933ed453ab2f43f0b4e21c6dd\"><g class=\"toytree-Edges\" style=\"fill:none;stroke:rgb(14.9%,14.9%,14.9%);stroke-linecap:round;stroke-opacity:1;stroke-width:2\"><path d=\"M 50.0 78.0 L 50.0 94.9 L 97.3 94.9\" id=\"18,17\"></path><path d=\"M 97.3 94.9 L 97.3 111.9 L 106.7 111.9\" id=\"17,16\"></path><path d=\"M 106.7 111.9 L 106.7 128.7 L 119.5 128.7\" id=\"16,15\"></path><path d=\"M 119.5 128.7 L 119.5 145.5 L 130.4 145.5\" id=\"15,14\"></path><path d=\"M 130.4 145.5 L 130.4 161.9 L 138.5 161.9\" id=\"14,13\"></path><path d=\"M 138.5 161.9 L 138.5 177.9 L 152.7 177.9\" id=\"13,12\"></path><path d=\"M 152.7 177.9 L 152.7 192.7 L 162.2 192.7\" id=\"12,11\"></path><path d=\"M 162.2 192.7 L 162.2 205.5 L 176.6 205.5\" id=\"11,10\"></path><path d=\"M 50.0 78.0 L 50.0 61.0 L 97.3 61.0\" id=\"18,9\"></path><path d=\"M 97.3 94.9 L 97.3 78.0 L 173.5 78.0\" id=\"17,8\"></path><path d=\"M 106.7 111.9 L 106.7 95.0 L 174.9 95.0\" id=\"16,7\"></path><path d=\"M 119.5 128.7 L 119.5 112.0 L 177.5 112.0\" id=\"15,6\"></path><path d=\"M 130.4 145.5 L 130.4 129.0 L 183.0 129.0\" id=\"14,5\"></path><path d=\"M 138.5 161.9 L 138.5 146.0 L 185.0 146.0\" id=\"13,4\"></path><path d=\"M 152.7 177.9 L 152.7 163.0 L 188.9 163.0\" id=\"12,3\"></path><path d=\"M 162.2 192.7 L 162.2 180.0 L 187.8 180.0\" id=\"11,2\"></path><path d=\"M 176.6 205.5 L 176.6 197.0 L 192.3 197.0\" id=\"10,1\"></path><path d=\"M 176.6 205.5 L 176.6 214.0 L 193.3 214.0\" id=\"10,0\"></path></g><g class=\"toytree-AlignEdges\" style=\"stroke:rgb(66.3%,66.3%,66.3%);stroke-dasharray:2, 4;stroke-linecap:round;stroke-opacity:1.0;stroke-width:2\"><path d=\"M 193.3 214.0 L 193.3 214.0\"></path><path d=\"M 193.3 197.0 L 192.3 197.0\"></path><path d=\"M 193.3 180.0 L 187.8 180.0\"></path><path d=\"M 193.3 163.0 L 188.9 163.0\"></path><path d=\"M 193.3 146.0 L 185.0 146.0\"></path><path d=\"M 193.3 129.0 L 183.0 129.0\"></path><path d=\"M 193.3 112.0 L 177.5 112.0\"></path><path d=\"M 193.3 95.0 L 174.9 95.0\"></path><path d=\"M 193.3 78.0 L 173.5 78.0\"></path><path d=\"M 193.3 61.0 L 97.3 61.0\"></path></g><g class=\"toytree-Nodes\" style=\"fill:rgb(40%,76.1%,64.7%);fill-opacity:1.0;stroke:None;stroke-width:1\"><g id=\"node-0\" transform=\"translate(193.282,213.986)\"><circle r=\"0.0\"></circle></g><g id=\"node-1\" transform=\"translate(192.259,196.989)\"><circle r=\"0.0\"></circle></g><g id=\"node-2\" transform=\"translate(187.813,179.992)\"><circle r=\"0.0\"></circle></g><g id=\"node-3\" transform=\"translate(188.929,162.995)\"><circle r=\"0.0\"></circle></g><g id=\"node-4\" transform=\"translate(184.987,145.998)\"><circle r=\"0.0\"></circle></g><g id=\"node-5\" transform=\"translate(183.024,129.002)\"><circle r=\"0.0\"></circle></g><g id=\"node-6\" transform=\"translate(177.540,112.005)\"><circle r=\"0.0\"></circle></g><g id=\"node-7\" transform=\"translate(174.871,95.008)\"><circle r=\"0.0\"></circle></g><g id=\"node-8\" transform=\"translate(173.451,78.011)\"><circle r=\"0.0\"></circle></g><g id=\"node-9\" transform=\"translate(97.321,61.014)\"><circle r=\"0.0\"></circle></g><g id=\"node-10\" transform=\"translate(176.617,205.488)\"><circle r=\"9.0\"></circle></g><g id=\"node-11\" transform=\"translate(162.213,192.740)\"><circle r=\"9.0\"></circle></g><g id=\"node-12\" transform=\"translate(152.716,177.868)\"><circle r=\"9.0\"></circle></g><g id=\"node-13\" transform=\"translate(138.528,161.933)\"><circle r=\"9.0\"></circle></g><g id=\"node-14\" transform=\"translate(130.432,145.467)\"><circle r=\"9.0\"></circle></g><g id=\"node-15\" transform=\"translate(119.509,128.736)\"><circle r=\"9.0\"></circle></g><g id=\"node-16\" transform=\"translate(106.746,111.872)\"><circle r=\"9.0\"></circle></g><g id=\"node-17\" transform=\"translate(97.321,94.941)\"><circle r=\"9.0\"></circle></g><g id=\"node-18\" transform=\"translate(50.000,77.978)\"><circle r=\"0.0\"></circle></g></g><g class=\"toytree-NodeLabels\" style=\"fill:rgb(14.9%,14.9%,14.9%);fill-opacity:1.0;font-size:9px;stroke:none\"><g transform=\"translate(169.11,207.79)\"><text>100</text></g><g transform=\"translate(154.71,195.04)\"><text>100</text></g><g transform=\"translate(145.21,180.17)\"><text>100</text></g><g transform=\"translate(131.02,164.23)\"><text>100</text></g><g transform=\"translate(122.93,147.77)\"><text>100</text></g><g transform=\"translate(112.00,131.04)\"><text>100</text></g><g transform=\"translate(99.24,114.17)\"><text>100</text></g><g transform=\"translate(89.82,97.24)\"><text>100</text></g></g><g class=\"toytree-TipLabels\" style=\"fill:rgb(14.9%,14.9%,14.9%);fill-opacity:1.0;font-family:helvetica;font-size:11px;font-weight:normal;stroke:none;white-space:pre\"><g transform=\"translate(193.28,213.99)rotate(0)\"><text style=\"\" x=\"15.00\" y=\"2.81\">r1</text></g><g transform=\"translate(193.28,196.99)rotate(0)\"><text style=\"\" x=\"15.00\" y=\"2.81\">r0</text></g><g transform=\"translate(193.28,179.99)rotate(0)\"><text style=\"\" x=\"15.00\" y=\"2.81\">r2</text></g><g transform=\"translate(193.28,163.00)rotate(0)\"><text style=\"\" x=\"15.00\" y=\"2.81\">r3</text></g><g transform=\"translate(193.28,146.00)rotate(0)\"><text style=\"\" x=\"15.00\" y=\"2.81\">r4</text></g><g transform=\"translate(193.28,129.00)rotate(0)\"><text style=\"\" x=\"15.00\" y=\"2.81\">r5</text></g><g transform=\"translate(193.28,112.00)rotate(0)\"><text style=\"\" x=\"15.00\" y=\"2.81\">r6</text></g><g transform=\"translate(193.28,95.01)rotate(0)\"><text style=\"\" x=\"15.00\" y=\"2.81\">r7</text></g><g transform=\"translate(193.28,78.01)rotate(0)\"><text style=\"\" x=\"15.00\" y=\"2.81\">r8</text></g><g transform=\"translate(193.28,61.01)rotate(0)\"><text style=\"\" x=\"15.00\" y=\"2.81\">r9</text></g></g></g></g></g></svg><div class=\"toyplot-behavior\"><script>(function()\n",
       "{\n",
       "var modules={};\n",
       "})();</script></div></div>"
      ]
     },
     "metadata": {},
     "output_type": "display_data"
    }
   ],
   "source": [
    "# load from the .trees attribute of the raxml object, or from the saved tree file\n",
    "tre = toytree.tree(rax.trees.bipartitions)\n",
    "\n",
    "# draw the tree\n",
    "rtre = tre.root(\"r9\")\n",
    "rtre.draw(tip_labels_align=True, node_sizes=18, node_labels=\"support\");"
   ]
  },
  {
   "cell_type": "markdown",
   "metadata": {},
   "source": [
    "### Setting parameters\n",
    "\n",
    "By default several parameters are pre-set in the raxml object. To remove those parameters from the command string you can set them to None. Additionally, you can build complex raxml command line strings by adding almost any parameter to the raxml object init, like below. You probably can't do everythin in raxml using this tool, it's only meant as a convenience. You can always of course just write the raxml command line string by hand instead."
   ]
  },
  {
   "cell_type": "code",
   "execution_count": 13,
   "metadata": {},
   "outputs": [
    {
     "data": {
      "text/plain": [
       "N        10                  \n",
       "T        4                   \n",
       "binary   ~/miniconda3/envs/scratch/bin/raxmlHPC-PTHREADS-AVX2\n",
       "f        a                   \n",
       "m        GTRGAMMA            \n",
       "n        test                \n",
       "p        54321               \n",
       "s        /tmp/raxtest.phy    \n",
       "w        ~/Documents/ipyrad/testdocs/analysis/analysis-raxml\n",
       "x        12345               "
      ]
     },
     "execution_count": 13,
     "metadata": {},
     "output_type": "execute_result"
    }
   ],
   "source": [
    "# init raxml object\n",
    "rax = ipa.raxml(data=\"/tmp/raxtest.phy\", T=4, N=10)\n",
    "\n",
    "# parameter dictionary for a raxml object\n",
    "rax.params"
   ]
  },
  {
   "cell_type": "code",
   "execution_count": 14,
   "metadata": {},
   "outputs": [
    {
     "data": {
      "text/plain": [
       "bestTree                   ~/Documents/ipyrad/testdocs/analysis/analysis-raxml/RAxML_bestTree.test\n",
       "bipartitions               ~/Documents/ipyrad/testdocs/analysis/analysis-raxml/RAxML_bipartitions.test\n",
       "bipartitionsBranchLabels   ~/Documents/ipyrad/testdocs/analysis/analysis-raxml/RAxML_bipartitionsBranchLabels.test\n",
       "bootstrap                  ~/Documents/ipyrad/testdocs/analysis/analysis-raxml/RAxML_bootstrap.test\n",
       "info                       ~/Documents/ipyrad/testdocs/analysis/analysis-raxml/RAxML_info.test"
      ]
     },
     "execution_count": 14,
     "metadata": {},
     "output_type": "execute_result"
    }
   ],
   "source": [
    "# paths to output files produced by raxml inference\n",
    "rax.trees"
   ]
  },
  {
   "cell_type": "markdown",
   "metadata": {},
   "source": [
    "### Cookbook\n",
    "\n",
    "Most frequently used: perform 100 rapid bootstrap analyses followed by 10 rapid hill-climbing ML searches from random starting trees under the GTRGAMMA substitution model. "
   ]
  },
  {
   "cell_type": "code",
   "execution_count": 15,
   "metadata": {},
   "outputs": [
    {
     "name": "stdout",
     "output_type": "stream",
     "text": [
      "/home/deren/miniconda3/envs/scratch/bin/raxmlHPC-PTHREADS-AVX2 -f a -T 8 -m GTRGAMMA -n test-1 -w /home/deren/Documents/ipyrad/testdocs/analysis/analysis-raxml -s /tmp/raxtest.phy -p 54321 -N 50 -x 12345\n",
      "job test-1 finished successfully\n"
     ]
    }
   ],
   "source": [
    "rax = ipa.raxml(\n",
    "    data=\"/tmp/raxtest.phy\",\n",
    "    name=\"test-1\",\n",
    "    workdir=\"analysis-raxml\",\n",
    "    m=\"GTRGAMMA\",\n",
    "    T=8,\n",
    "    f=\"a\",\n",
    "    N=50,\n",
    ")\n",
    "print(rax.command)\n",
    "rax.run(force=True)"
   ]
  },
  {
   "cell_type": "markdown",
   "metadata": {},
   "source": [
    "Another common option: Perform N rapid hill-climbing ML analyses from random starting trees, with no bootstrap replicates. Be sure to use the `BestTree` output from this analysis since it does not produce a `bipartitions` output file. "
   ]
  },
  {
   "cell_type": "code",
   "execution_count": 16,
   "metadata": {},
   "outputs": [
    {
     "name": "stdout",
     "output_type": "stream",
     "text": [
      "/home/deren/miniconda3/envs/scratch/bin/raxmlHPC-PTHREADS-AVX2 -f d -T 8 -m GTRGAMMA -n test-2 -w /home/deren/Documents/ipyrad/testdocs/analysis/analysis-raxml -s /tmp/raxtest.phy -p 54321 -N 10\n",
      "job test-2 finished successfully\n"
     ]
    }
   ],
   "source": [
    "rax = ipa.raxml(\n",
    "    data=\"/tmp/raxtest.phy\",\n",
    "    name=\"test-2\",\n",
    "    workdir=\"analysis-raxml\",\n",
    "    m=\"GTRGAMMA\",\n",
    "    T=8,\n",
    "    f=\"d\",\n",
    "    N=10,\n",
    "    x=None,\n",
    ")\n",
    "print(rax.command)\n",
    "rax.run(force=True)"
   ]
  },
  {
   "cell_type": "markdown",
   "metadata": {},
   "source": [
    "### Check your files\n",
    "The .info and related log files will be stored in the `workdir`. Be sure to look at these for further details of your analyses. "
   ]
  },
  {
   "cell_type": "code",
   "execution_count": 18,
   "metadata": {
    "scrolled": true
   },
   "outputs": [
    {
     "name": "stdout",
     "output_type": "stream",
     "text": [
      "\r\n",
      "\r\n",
      "Using BFGS method to optimize GTR rate parameters, to disable this specify \"--no-bfgs\" \r\n",
      "\r\n",
      "\r\n",
      "\r\n",
      "This is RAxML version 8.2.12 released by Alexandros Stamatakis on May 2018.\r\n",
      "\r\n",
      "With greatly appreciated code contributions by:\r\n",
      "Andre Aberer      (HITS)\r\n",
      "Simon Berger      (HITS)\r\n",
      "Alexey Kozlov     (HITS)\r\n",
      "Kassian Kobert    (HITS)\r\n",
      "David Dao         (KIT and HITS)\r\n",
      "Sarah Lutteropp   (KIT and HITS)\r\n",
      "Nick Pattengale   (Sandia)\r\n",
      "Wayne Pfeiffer    (SDSC)\r\n",
      "Akifumi S. Tanabe (NRIFS)\r\n",
      "Charlie Taylor    (UF)\r\n",
      "\r\n",
      "\r\n",
      "Alignment has 738 distinct alignment patterns\r\n",
      "\r\n",
      "Proportion of gaps and completely undetermined characters in this alignment: 0.00%\r\n",
      "\r\n",
      "RAxML rapid bootstrapping and subsequent ML search\r\n",
      "\r\n",
      "Using 1 distinct models/data partitions with joint branch length optimization\r\n",
      "\r\n",
      "\r\n",
      "\r\n",
      "Executing 50 rapid bootstrap inferences and thereafter a thorough ML search \r\n",
      "\r\n",
      "All free model parameters will be estimated by RAxML\r\n",
      "GAMMA model of rate heterogeneity, ML estimate of alpha-parameter\r\n",
      "\r\n",
      "GAMMA Model parameters will be estimated up to an accuracy of 0.1000000000 Log Likelihood units\r\n",
      "\r\n",
      "Partition: 0\r\n",
      "Alignment Patterns: 738\r\n",
      "Name: No Name Provided\r\n",
      "DataType: DNA\r\n",
      "Substitution Matrix: GTR\r\n",
      "\r\n",
      "\r\n",
      "\r\n",
      "\r\n",
      "RAxML was called as follows:\r\n",
      "\r\n",
      "/home/deren/miniconda3/envs/scratch/bin/raxmlHPC-PTHREADS-AVX2 -f a -T 8 -m GTRGAMMA -n test-1 -w /home/deren/Documents/ipyrad/testdocs/analysis/analysis-raxml -s /tmp/raxtest.phy -p 54321 -N 50 -x 12345 \r\n",
      "\r\n",
      "\r\n",
      "\r\n",
      "Time for BS model parameter optimization 0.012243\r\n",
      "Bootstrap[0]: Time 0.028424 seconds, bootstrap likelihood -31256.799109, best rearrangement setting 13\r\n",
      "Bootstrap[1]: Time 0.012425 seconds, bootstrap likelihood -31561.478478, best rearrangement setting 13\r\n",
      "Bootstrap[2]: Time 0.015826 seconds, bootstrap likelihood -31384.937422, best rearrangement setting 12\r\n",
      "Bootstrap[3]: Time 0.015474 seconds, bootstrap likelihood -31232.418170, best rearrangement setting 15\r\n",
      "Bootstrap[4]: Time 0.013286 seconds, bootstrap likelihood -31727.424206, best rearrangement setting 10\r\n",
      "Bootstrap[5]: Time 0.012674 seconds, bootstrap likelihood -31794.856117, best rearrangement setting 10\r\n",
      "Bootstrap[6]: Time 0.012284 seconds, bootstrap likelihood -31364.095102, best rearrangement setting 6\r\n",
      "Bootstrap[7]: Time 0.012507 seconds, bootstrap likelihood -30987.465040, best rearrangement setting 14\r\n",
      "Bootstrap[8]: Time 0.025328 seconds, bootstrap likelihood -31661.559274, best rearrangement setting 5\r\n",
      "Bootstrap[9]: Time 0.020408 seconds, bootstrap likelihood -31624.263244, best rearrangement setting 7\r\n",
      "Bootstrap[10]: Time 0.019384 seconds, bootstrap likelihood -31113.558007, best rearrangement setting 7\r\n",
      "Bootstrap[11]: Time 0.025762 seconds, bootstrap likelihood -31346.812031, best rearrangement setting 5\r\n",
      "Bootstrap[12]: Time 0.013538 seconds, bootstrap likelihood -31485.855305, best rearrangement setting 8\r\n",
      "Bootstrap[13]: Time 0.030762 seconds, bootstrap likelihood -31847.504928, best rearrangement setting 7\r\n",
      "Bootstrap[14]: Time 0.012672 seconds, bootstrap likelihood -31979.948429, best rearrangement setting 12\r\n",
      "Bootstrap[15]: Time 0.015875 seconds, bootstrap likelihood -31359.113575, best rearrangement setting 15\r\n",
      "Bootstrap[16]: Time 0.013703 seconds, bootstrap likelihood -31511.570437, best rearrangement setting 12\r\n",
      "Bootstrap[17]: Time 0.012595 seconds, bootstrap likelihood -31356.443157, best rearrangement setting 12\r\n",
      "Bootstrap[18]: Time 0.012587 seconds, bootstrap likelihood -31516.410335, best rearrangement setting 5\r\n",
      "Bootstrap[19]: Time 0.012513 seconds, bootstrap likelihood -31715.502621, best rearrangement setting 8\r\n",
      "Bootstrap[20]: Time 0.030856 seconds, bootstrap likelihood -31330.596079, best rearrangement setting 10\r\n",
      "Bootstrap[21]: Time 0.013577 seconds, bootstrap likelihood -31526.335199, best rearrangement setting 6\r\n",
      "Bootstrap[22]: Time 0.013242 seconds, bootstrap likelihood -31723.116305, best rearrangement setting 5\r\n",
      "Bootstrap[23]: Time 0.013744 seconds, bootstrap likelihood -31067.948839, best rearrangement setting 7\r\n",
      "Bootstrap[24]: Time 0.012607 seconds, bootstrap likelihood -31838.730422, best rearrangement setting 8\r\n",
      "Bootstrap[25]: Time 0.012560 seconds, bootstrap likelihood -31331.553790, best rearrangement setting 6\r\n",
      "Bootstrap[26]: Time 0.013312 seconds, bootstrap likelihood -31453.197341, best rearrangement setting 12\r\n",
      "Bootstrap[27]: Time 0.027944 seconds, bootstrap likelihood -31274.307232, best rearrangement setting 10\r\n",
      "Bootstrap[28]: Time 0.017660 seconds, bootstrap likelihood -31571.543196, best rearrangement setting 11\r\n",
      "Bootstrap[29]: Time 0.012387 seconds, bootstrap likelihood -31579.417834, best rearrangement setting 12\r\n",
      "Bootstrap[30]: Time 0.014712 seconds, bootstrap likelihood -31520.046802, best rearrangement setting 15\r\n",
      "Bootstrap[31]: Time 0.014092 seconds, bootstrap likelihood -32161.649217, best rearrangement setting 15\r\n",
      "Bootstrap[32]: Time 0.012034 seconds, bootstrap likelihood -30990.065111, best rearrangement setting 6\r\n",
      "Bootstrap[33]: Time 0.030149 seconds, bootstrap likelihood -31475.093176, best rearrangement setting 15\r\n",
      "Bootstrap[34]: Time 0.013112 seconds, bootstrap likelihood -31857.142659, best rearrangement setting 11\r\n",
      "Bootstrap[35]: Time 0.012832 seconds, bootstrap likelihood -31694.368466, best rearrangement setting 8\r\n",
      "Bootstrap[36]: Time 0.013167 seconds, bootstrap likelihood -31576.845410, best rearrangement setting 9\r\n",
      "Bootstrap[37]: Time 0.012264 seconds, bootstrap likelihood -30872.766864, best rearrangement setting 11\r\n",
      "Bootstrap[38]: Time 0.011929 seconds, bootstrap likelihood -30900.983196, best rearrangement setting 8\r\n",
      "Bootstrap[39]: Time 0.012578 seconds, bootstrap likelihood -30945.725549, best rearrangement setting 13\r\n",
      "Bootstrap[40]: Time 0.013417 seconds, bootstrap likelihood -31387.327714, best rearrangement setting 13\r\n",
      "Bootstrap[41]: Time 0.028272 seconds, bootstrap likelihood -31207.229215, best rearrangement setting 10\r\n",
      "Bootstrap[42]: Time 0.016108 seconds, bootstrap likelihood -31669.192821, best rearrangement setting 5\r\n",
      "Bootstrap[43]: Time 0.011827 seconds, bootstrap likelihood -31791.920849, best rearrangement setting 14\r\n",
      "Bootstrap[44]: Time 0.013031 seconds, bootstrap likelihood -31714.252273, best rearrangement setting 10\r\n",
      "Bootstrap[45]: Time 0.012172 seconds, bootstrap likelihood -31266.164753, best rearrangement setting 15\r\n",
      "Bootstrap[46]: Time 0.011897 seconds, bootstrap likelihood -31159.607935, best rearrangement setting 14\r\n",
      "Bootstrap[47]: Time 0.011418 seconds, bootstrap likelihood -30865.823867, best rearrangement setting 8\r\n",
      "Bootstrap[48]: Time 0.030119 seconds, bootstrap likelihood -31970.680485, best rearrangement setting 6\r\n",
      "Bootstrap[49]: Time 0.026086 seconds, bootstrap likelihood -31512.708811, best rearrangement setting 7\r\n",
      "\r\n",
      "\r\n",
      "Overall Time for 50 Rapid Bootstraps 0.841106 seconds\r\n",
      "Average Time per Rapid Bootstrap 0.016822 seconds\r\n",
      "\r\n",
      "Starting ML Search ...\r\n",
      "\r\n",
      "Fast ML optimization finished\r\n",
      "\r\n",
      "Fast ML search Time: 0.483205 seconds\r\n",
      "\r\n",
      "Slow ML Search 0 Likelihood: -31496.126250\r\n",
      "Slow ML Search 1 Likelihood: -31496.126250\r\n",
      "Slow ML Search 2 Likelihood: -31496.126250\r\n",
      "Slow ML Search 3 Likelihood: -31496.126250\r\n",
      "Slow ML Search 4 Likelihood: -31496.126250\r\n",
      "Slow ML Search 5 Likelihood: -31496.126250\r\n",
      "Slow ML Search 6 Likelihood: -31496.126250\r\n",
      "Slow ML Search 7 Likelihood: -31496.126250\r\n",
      "Slow ML Search 8 Likelihood: -31496.126250\r\n",
      "Slow ML Search 9 Likelihood: -31496.126250\r\n",
      "Slow ML optimization finished\r\n",
      "\r\n",
      "Slow ML search Time: 0.505230 seconds\r\n",
      "Thorough ML search Time: 0.056678 seconds\r\n",
      "\r\n",
      "Final ML Optimization Likelihood: -31496.126248\r\n",
      "\r\n",
      "Model Information:\r\n",
      "\r\n",
      "Model Parameters of Partition 0, Name: No Name Provided, Type of Data: DNA\r\n",
      "alpha: 0.331162\r\n",
      "Tree-Length: 0.383559\r\n",
      "rate A <-> C: 1.035981\r\n",
      "rate A <-> G: 0.374649\r\n",
      "rate A <-> T: 1.025646\r\n",
      "rate C <-> G: 1.090484\r\n",
      "rate C <-> T: 0.363051\r\n",
      "rate G <-> T: 1.000000\r\n",
      "\r\n",
      "freq pi(A): 0.303095\r\n",
      "freq pi(C): 0.196877\r\n",
      "freq pi(G): 0.304732\r\n",
      "freq pi(T): 0.195296\r\n",
      "\r\n",
      "\r\n",
      "ML search took 1.045715 secs or 0.000290 hours\r\n",
      "\r\n",
      "Combined Bootstrap and ML search took 1.886871 secs or 0.000524 hours\r\n",
      "\r\n",
      "Drawing Bootstrap Support Values on best-scoring ML tree ...\r\n",
      "\r\n",
      "\r\n",
      "\r\n",
      "Found 1 tree in File /home/deren/Documents/ipyrad/testdocs/analysis/analysis-raxml/RAxML_bestTree.test-1\r\n",
      "\r\n",
      "\r\n",
      "\r\n",
      "Found 1 tree in File /home/deren/Documents/ipyrad/testdocs/analysis/analysis-raxml/RAxML_bestTree.test-1\r\n",
      "\r\n",
      "Program execution info written to /home/deren/Documents/ipyrad/testdocs/analysis/analysis-raxml/RAxML_info.test-1\r\n",
      "All 50 bootstrapped trees written to: /home/deren/Documents/ipyrad/testdocs/analysis/analysis-raxml/RAxML_bootstrap.test-1\r\n",
      "\r\n",
      "Best-scoring ML tree written to: /home/deren/Documents/ipyrad/testdocs/analysis/analysis-raxml/RAxML_bestTree.test-1\r\n",
      "\r\n",
      "Best-scoring ML tree with support values written to: /home/deren/Documents/ipyrad/testdocs/analysis/analysis-raxml/RAxML_bipartitions.test-1\r\n",
      "\r\n",
      "Best-scoring ML tree with support values as branch labels written to: /home/deren/Documents/ipyrad/testdocs/analysis/analysis-raxml/RAxML_bipartitionsBranchLabels.test-1\r\n",
      "\r\n",
      "Overall execution time for full ML analysis: 1.887431 secs or 0.000524 hours or 0.000022 days\r\n",
      "\r\n"
     ]
    }
   ],
   "source": [
    "! cat ./analysis-raxml/RAxML_info.test-1"
   ]
  },
  {
   "cell_type": "code",
   "execution_count": 19,
   "metadata": {
    "scrolled": true
   },
   "outputs": [
    {
     "name": "stdout",
     "output_type": "stream",
     "text": [
      "\r\n",
      "\r\n",
      "Using BFGS method to optimize GTR rate parameters, to disable this specify \"--no-bfgs\" \r\n",
      "\r\n",
      "\r\n",
      "\r\n",
      "This is RAxML version 8.2.12 released by Alexandros Stamatakis on May 2018.\r\n",
      "\r\n",
      "With greatly appreciated code contributions by:\r\n",
      "Andre Aberer      (HITS)\r\n",
      "Simon Berger      (HITS)\r\n",
      "Alexey Kozlov     (HITS)\r\n",
      "Kassian Kobert    (HITS)\r\n",
      "David Dao         (KIT and HITS)\r\n",
      "Sarah Lutteropp   (KIT and HITS)\r\n",
      "Nick Pattengale   (Sandia)\r\n",
      "Wayne Pfeiffer    (SDSC)\r\n",
      "Akifumi S. Tanabe (NRIFS)\r\n",
      "Charlie Taylor    (UF)\r\n",
      "\r\n",
      "\r\n",
      "Alignment has 738 distinct alignment patterns\r\n",
      "\r\n",
      "Proportion of gaps and completely undetermined characters in this alignment: 0.00%\r\n",
      "\r\n",
      "RAxML rapid hill-climbing mode\r\n",
      "\r\n",
      "Using 1 distinct models/data partitions with joint branch length optimization\r\n",
      "\r\n",
      "\r\n",
      "Executing 10 inferences on the original alignment using 10 distinct randomized MP trees\r\n",
      "\r\n",
      "All free model parameters will be estimated by RAxML\r\n",
      "GAMMA model of rate heterogeneity, ML estimate of alpha-parameter\r\n",
      "\r\n",
      "GAMMA Model parameters will be estimated up to an accuracy of 0.1000000000 Log Likelihood units\r\n",
      "\r\n",
      "Partition: 0\r\n",
      "Alignment Patterns: 738\r\n",
      "Name: No Name Provided\r\n",
      "DataType: DNA\r\n",
      "Substitution Matrix: GTR\r\n",
      "\r\n",
      "\r\n",
      "\r\n",
      "\r\n",
      "RAxML was called as follows:\r\n",
      "\r\n",
      "/home/deren/miniconda3/envs/scratch/bin/raxmlHPC-PTHREADS-AVX2 -f d -T 8 -m GTRGAMMA -n test-2 -w /home/deren/Documents/ipyrad/testdocs/analysis/analysis-raxml -s /tmp/raxtest.phy -p 54321 -N 10 \r\n",
      "\r\n",
      "\r\n",
      "Partition: 0 with name: No Name Provided\r\n",
      "Base frequencies: 0.303 0.197 0.305 0.195 \r\n",
      "\r\n",
      "Inference[0]: Time 0.111880 GAMMA-based likelihood -31496.125560, best rearrangement setting 5\r\n",
      "alpha[0]: 0.331155 rates[0] ac ag at cg ct gt: 1.036484 0.373779 1.026351 1.090405 0.363302 1.000000 \r\n",
      "Inference[1]: Time 0.162115 GAMMA-based likelihood -31496.125561, best rearrangement setting 5\r\n",
      "alpha[0]: 0.331155 rates[0] ac ag at cg ct gt: 1.036484 0.373778 1.026351 1.090405 0.363302 1.000000 \r\n",
      "Inference[2]: Time 0.127516 GAMMA-based likelihood -31496.125560, best rearrangement setting 5\r\n",
      "alpha[0]: 0.331155 rates[0] ac ag at cg ct gt: 1.036484 0.373779 1.026352 1.090405 0.363302 1.000000 \r\n",
      "Inference[3]: Time 0.130142 GAMMA-based likelihood -31496.125560, best rearrangement setting 5\r\n",
      "alpha[0]: 0.331155 rates[0] ac ag at cg ct gt: 1.036484 0.373779 1.026352 1.090405 0.363302 1.000000 \r\n",
      "Inference[4]: Time 0.166387 GAMMA-based likelihood -31496.125561, best rearrangement setting 5\r\n",
      "alpha[0]: 0.331155 rates[0] ac ag at cg ct gt: 1.036483 0.373778 1.026352 1.090405 0.363302 1.000000 \r\n",
      "Inference[5]: Time 0.182148 GAMMA-based likelihood -31496.125560, best rearrangement setting 5\r\n",
      "alpha[0]: 0.331155 rates[0] ac ag at cg ct gt: 1.036483 0.373779 1.026351 1.090405 0.363302 1.000000 \r\n",
      "Inference[6]: Time 0.131267 GAMMA-based likelihood -31496.125559, best rearrangement setting 5\r\n",
      "alpha[0]: 0.331155 rates[0] ac ag at cg ct gt: 1.036484 0.373780 1.026352 1.090405 0.363302 1.000000 \r\n",
      "Inference[7]: Time 0.134231 GAMMA-based likelihood -31496.125559, best rearrangement setting 5\r\n",
      "alpha[0]: 0.331155 rates[0] ac ag at cg ct gt: 1.036484 0.373780 1.026352 1.090405 0.363302 1.000000 \r\n",
      "Inference[8]: Time 0.130028 GAMMA-based likelihood -31496.125558, best rearrangement setting 5\r\n",
      "alpha[0]: 0.331155 rates[0] ac ag at cg ct gt: 1.036484 0.373781 1.026352 1.090406 0.363302 1.000000 \r\n",
      "Inference[9]: Time 0.129243 GAMMA-based likelihood -31496.125561, best rearrangement setting 5\r\n",
      "alpha[0]: 0.331155 rates[0] ac ag at cg ct gt: 1.036483 0.373778 1.026351 1.090405 0.363302 1.000000 \r\n",
      "\r\n",
      "\r\n",
      "Conducting final model optimizations on all 10 trees under GAMMA-based models ....\r\n",
      "\r\n",
      "Inference[0] final GAMMA-based Likelihood: -31496.125174 tree written to file /home/deren/Documents/ipyrad/testdocs/analysis/analysis-raxml/RAxML_result.test-2.RUN.0\r\n",
      "Inference[1] final GAMMA-based Likelihood: -31496.125174 tree written to file /home/deren/Documents/ipyrad/testdocs/analysis/analysis-raxml/RAxML_result.test-2.RUN.1\r\n",
      "Inference[2] final GAMMA-based Likelihood: -31496.125174 tree written to file /home/deren/Documents/ipyrad/testdocs/analysis/analysis-raxml/RAxML_result.test-2.RUN.2\r\n",
      "Inference[3] final GAMMA-based Likelihood: -31496.125174 tree written to file /home/deren/Documents/ipyrad/testdocs/analysis/analysis-raxml/RAxML_result.test-2.RUN.3\r\n",
      "Inference[4] final GAMMA-based Likelihood: -31496.125174 tree written to file /home/deren/Documents/ipyrad/testdocs/analysis/analysis-raxml/RAxML_result.test-2.RUN.4\r\n",
      "Inference[5] final GAMMA-based Likelihood: -31496.125174 tree written to file /home/deren/Documents/ipyrad/testdocs/analysis/analysis-raxml/RAxML_result.test-2.RUN.5\r\n",
      "Inference[6] final GAMMA-based Likelihood: -31496.125174 tree written to file /home/deren/Documents/ipyrad/testdocs/analysis/analysis-raxml/RAxML_result.test-2.RUN.6\r\n",
      "Inference[7] final GAMMA-based Likelihood: -31496.125174 tree written to file /home/deren/Documents/ipyrad/testdocs/analysis/analysis-raxml/RAxML_result.test-2.RUN.7\r\n",
      "Inference[8] final GAMMA-based Likelihood: -31496.125174 tree written to file /home/deren/Documents/ipyrad/testdocs/analysis/analysis-raxml/RAxML_result.test-2.RUN.8\r\n",
      "Inference[9] final GAMMA-based Likelihood: -31496.125174 tree written to file /home/deren/Documents/ipyrad/testdocs/analysis/analysis-raxml/RAxML_result.test-2.RUN.9\r\n",
      "\r\n",
      "\r\n",
      "Starting final GAMMA-based thorough Optimization on tree 8 likelihood -31496.125174 .... \r\n",
      "\r\n",
      "Final GAMMA-based Score of best tree -31496.125174\r\n",
      "\r\n",
      "Program execution info written to /home/deren/Documents/ipyrad/testdocs/analysis/analysis-raxml/RAxML_info.test-2\r\n",
      "Best-scoring ML tree written to: /home/deren/Documents/ipyrad/testdocs/analysis/analysis-raxml/RAxML_bestTree.test-2\r\n",
      "\r\n",
      "Overall execution time: 1.473922 secs or 0.000409 hours or 0.000017 days\r\n",
      "\r\n"
     ]
    }
   ],
   "source": [
    "! cat ./analysis-raxml/RAxML_info.test-2"
   ]
  }
 ],
 "metadata": {
  "kernelspec": {
   "display_name": "Python 3",
   "language": "python",
   "name": "python3"
  },
  "language_info": {
   "codemirror_mode": {
    "name": "ipython",
    "version": 3
   },
   "file_extension": ".py",
   "mimetype": "text/x-python",
   "name": "python",
   "nbconvert_exporter": "python",
   "pygments_lexer": "ipython3",
   "version": "3.7.9"
  }
 },
 "nbformat": 4,
 "nbformat_minor": 2
}

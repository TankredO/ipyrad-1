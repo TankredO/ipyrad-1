{
 "cells": [
  {
   "cell_type": "markdown",
   "metadata": {},
   "source": [
    "# <span style=\"color:gray\">ipyrad-analysis toolkit:</span> RAxML\n",
    "\n",
    "RAxML is one of the most popular tools for inferring phylogenetic trees using maximum likelihood. It is fast even for very large data sets. The documentation for raxml is huge, and there are many options. However, I tend to use the same small number of options very frequently, which motivated me to write the `ipa.raxml()` tool to automate the process of generating RAxml command line strings, running them, and accessing the resulting tree files. The simplicity of this tool makes it easy to incorporate into other more complex tools, for example, to infer tress in sliding windows along the genome using the `ipa.treeslider` tool.\n",
    "\n"
   ]
  },
  {
   "cell_type": "markdown",
   "metadata": {},
   "source": [
    "### Required software"
   ]
  },
  {
   "cell_type": "code",
   "execution_count": 3,
   "metadata": {},
   "outputs": [],
   "source": [
    "# conda install ipyrad -c conda-forge -c bioconda\n",
    "# conda install raxml -c conda-forge -c bioconda\n",
    "# conda install ipcoal -c conda-forge"
   ]
  },
  {
   "cell_type": "code",
   "execution_count": 4,
   "metadata": {},
   "outputs": [],
   "source": [
    "import ipyrad.analysis as ipa\n",
    "import toytree\n",
    "import ipcoal"
   ]
  },
  {
   "cell_type": "markdown",
   "metadata": {},
   "source": [
    "### Simulate example dataset"
   ]
  },
  {
   "cell_type": "code",
   "execution_count": 19,
   "metadata": {},
   "outputs": [
    {
     "name": "stdout",
     "output_type": "stream",
     "text": [
      "wrote concat locus (10 x 10000bp) to /tmp/raxtest.phy\n"
     ]
    },
    {
     "data": {
      "text/html": [
       "<div class=\"toyplot\" id=\"t0d1141fec88b4c7fb7a660ba45cb7347\" style=\"text-align:center\"><svg class=\"toyplot-canvas-Canvas\" height=\"260.0px\" id=\"te4a253d3539b42ad9c30bbe82dbfab0a\" preserveAspectRatio=\"xMidYMid meet\" style=\"background-color:transparent;border-color:#292724;border-style:none;border-width:1.0;fill:rgb(16.1%,15.3%,14.1%);fill-opacity:1.0;font-family:Helvetica;font-size:12px;opacity:1.0;stroke:rgb(16.1%,15.3%,14.1%);stroke-opacity:1.0;stroke-width:1.0\" viewBox=\"0 0 350.0 260.0\" width=\"350.0px\" xmlns=\"http://www.w3.org/2000/svg\" xmlns:toyplot=\"http://www.sandia.gov/toyplot\" xmlns:xlink=\"http://www.w3.org/1999/xlink\"><g class=\"toyplot-coordinates-Cartesian\" id=\"ta69508491e174c30bf6aa5241ccd8ce9\"><clipPath id=\"t6ae7158c2b0f4372acd6ad636c7d1f6d\"><rect height=\"200.0\" width=\"290.0\" x=\"30.0\" y=\"30.0\"></rect></clipPath><g clip-path=\"url(#t6ae7158c2b0f4372acd6ad636c7d1f6d)\"><g class=\"toytree-mark-Toytree\" id=\"t84439fc707114b6ba06551d0b0dc6708\"><g class=\"toytree-Edges\" style=\"fill:none;stroke:rgb(14.9%,14.9%,14.9%);stroke-linecap:round;stroke-opacity:1;stroke-width:2\"><path d=\"M 261.9 61.5 L 237.1 75.1\" id=\"18,17\"></path><path d=\"M 237.1 75.1 L 212.4 88.8\" id=\"17,16\"></path><path d=\"M 212.4 88.8 L 187.8 102.4\" id=\"16,15\"></path><path d=\"M 187.8 102.4 L 163.4 116.0\" id=\"15,14\"></path><path d=\"M 163.4 116.0 L 139.3 129.7\" id=\"14,13\"></path><path d=\"M 139.3 129.7 L 116.1 143.3\" id=\"13,12\"></path><path d=\"M 116.1 143.3 L 94.4 156.9\" id=\"12,11\"></path><path d=\"M 94.4 156.9 L 75.8 170.6\" id=\"11,10\"></path><path d=\"M 261.9 61.5 L 286.6 184.2\" id=\"18,9\"></path><path d=\"M 237.1 75.1 L 261.8 184.2\" id=\"17,8\"></path><path d=\"M 212.4 88.8 L 237.0 184.2\" id=\"16,7\"></path><path d=\"M 187.8 102.4 L 212.2 184.2\" id=\"15,6\"></path><path d=\"M 163.4 116.0 L 187.4 184.2\" id=\"14,5\"></path><path d=\"M 139.3 129.7 L 162.6 184.2\" id=\"13,4\"></path><path d=\"M 116.1 143.3 L 137.8 184.2\" id=\"12,3\"></path><path d=\"M 94.4 156.9 L 113.0 184.2\" id=\"11,2\"></path><path d=\"M 75.8 170.6 L 88.2 184.2\" id=\"10,1\"></path><path d=\"M 75.8 170.6 L 63.4 184.2\" id=\"10,0\"></path></g><g class=\"toytree-Nodes\" style=\"fill:rgb(40%,76.1%,64.7%);fill-opacity:1.0;stroke:rgb(14.9%,14.9%,14.9%);stroke-opacity:1.0;stroke-width:1\"><g id=\"node-0\" transform=\"translate(63.393,184.184)\"><circle r=\"7.5\"></circle></g><g id=\"node-1\" transform=\"translate(88.194,184.184)\"><circle r=\"7.5\"></circle></g><g id=\"node-2\" transform=\"translate(112.996,184.184)\"><circle r=\"7.5\"></circle></g><g id=\"node-3\" transform=\"translate(137.798,184.184)\"><circle r=\"7.5\"></circle></g><g id=\"node-4\" transform=\"translate(162.599,184.184)\"><circle r=\"7.5\"></circle></g><g id=\"node-5\" transform=\"translate(187.401,184.184)\"><circle r=\"7.5\"></circle></g><g id=\"node-6\" transform=\"translate(212.202,184.184)\"><circle r=\"7.5\"></circle></g><g id=\"node-7\" transform=\"translate(237.004,184.184)\"><circle r=\"7.5\"></circle></g><g id=\"node-8\" transform=\"translate(261.806,184.184)\"><circle r=\"7.5\"></circle></g><g id=\"node-9\" transform=\"translate(286.607,184.184)\"><circle r=\"7.5\"></circle></g><g id=\"node-10\" transform=\"translate(75.794,170.552)\"><circle r=\"7.5\"></circle></g><g id=\"node-11\" transform=\"translate(94.395,156.921)\"><circle r=\"7.5\"></circle></g><g id=\"node-12\" transform=\"translate(116.096,143.290)\"><circle r=\"7.5\"></circle></g><g id=\"node-13\" transform=\"translate(139.348,129.658)\"><circle r=\"7.5\"></circle></g><g id=\"node-14\" transform=\"translate(163.374,116.027)\"><circle r=\"7.5\"></circle></g><g id=\"node-15\" transform=\"translate(187.788,102.396)\"><circle r=\"7.5\"></circle></g><g id=\"node-16\" transform=\"translate(212.396,88.764)\"><circle r=\"7.5\"></circle></g><g id=\"node-17\" transform=\"translate(237.101,75.133)\"><circle r=\"7.5\"></circle></g><g id=\"node-18\" transform=\"translate(261.854,61.501)\"><circle r=\"7.5\"></circle></g></g><g class=\"toytree-NodeLabels\" style=\"fill:rgb(14.9%,14.9%,14.9%);fill-opacity:1.0;font-size:9px;stroke:none\"><g transform=\"translate(60.89,186.48)\"><text>0</text></g><g transform=\"translate(85.69,186.48)\"><text>1</text></g><g transform=\"translate(110.49,186.48)\"><text>2</text></g><g transform=\"translate(135.30,186.48)\"><text>3</text></g><g transform=\"translate(160.10,186.48)\"><text>4</text></g><g transform=\"translate(184.90,186.48)\"><text>5</text></g><g transform=\"translate(209.70,186.48)\"><text>6</text></g><g transform=\"translate(234.50,186.48)\"><text>7</text></g><g transform=\"translate(259.30,186.48)\"><text>8</text></g><g transform=\"translate(284.11,186.48)\"><text>9</text></g><g transform=\"translate(70.79,172.85)\"><text>10</text></g><g transform=\"translate(89.39,159.22)\"><text>11</text></g><g transform=\"translate(111.09,145.59)\"><text>12</text></g><g transform=\"translate(134.34,131.96)\"><text>13</text></g><g transform=\"translate(158.37,118.33)\"><text>14</text></g><g transform=\"translate(182.78,104.70)\"><text>15</text></g><g transform=\"translate(207.39,91.06)\"><text>16</text></g><g transform=\"translate(232.10,77.43)\"><text>17</text></g><g transform=\"translate(256.85,63.80)\"><text>18</text></g></g><g class=\"toytree-TipLabels\" style=\"fill:rgb(14.9%,14.9%,14.9%);fill-opacity:1.0;font-family:helvetica;font-size:11px;font-weight:normal;stroke:none;white-space:pre\"><g transform=\"translate(63.39,184.18)rotate(-90)\"><text style=\"\" x=\"-24.78\" y=\"2.81\">r0</text></g><g transform=\"translate(88.19,184.18)rotate(-90)\"><text style=\"\" x=\"-24.78\" y=\"2.81\">r1</text></g><g transform=\"translate(113.00,184.18)rotate(-90)\"><text style=\"\" x=\"-24.78\" y=\"2.81\">r2</text></g><g transform=\"translate(137.80,184.18)rotate(-90)\"><text style=\"\" x=\"-24.78\" y=\"2.81\">r3</text></g><g transform=\"translate(162.60,184.18)rotate(-90)\"><text style=\"\" x=\"-24.78\" y=\"2.81\">r4</text></g><g transform=\"translate(187.40,184.18)rotate(-90)\"><text style=\"\" x=\"-24.78\" y=\"2.81\">r5</text></g><g transform=\"translate(212.20,184.18)rotate(-90)\"><text style=\"\" x=\"-24.78\" y=\"2.81\">r6</text></g><g transform=\"translate(237.00,184.18)rotate(-90)\"><text style=\"\" x=\"-24.78\" y=\"2.81\">r7</text></g><g transform=\"translate(261.81,184.18)rotate(-90)\"><text style=\"\" x=\"-24.78\" y=\"2.81\">r8</text></g><g transform=\"translate(286.61,184.18)rotate(-90)\"><text style=\"\" x=\"-24.78\" y=\"2.81\">r9</text></g></g></g></g><g class=\"toyplot-coordinates-Axis\" id=\"ta8e3291f10fa4ef2b0da24da23a6f15b\" transform=\"translate(50.0,210.0)rotate(-90.0)translate(0,-20.0)\"><line style=\"\" x1=\"25.816196943484645\" x2=\"148.4985311665844\" y1=\"0\" y2=\"0\"></line><g><line style=\"\" x1=\"25.816196943484645\" x2=\"25.816196943484645\" y1=\"0\" y2=\"5\"></line><line style=\"\" x1=\"87.1573640550345\" x2=\"87.1573640550345\" y1=\"0\" y2=\"5\"></line><line style=\"\" x1=\"148.4985311665844\" x2=\"148.4985311665844\" y1=\"0\" y2=\"5\"></line></g><g><g transform=\"translate(25.816196943484645,-6)\"><text style=\"fill:rgb(16.1%,15.3%,14.1%);fill-opacity:1.0;font-family:helvetica;font-size:10.0px;font-weight:normal;stroke:none;vertical-align:baseline;white-space:pre\" x=\"-2.78\" y=\"-4.440892098500626e-16\">0</text></g><g transform=\"translate(87.1573640550345,-6)\"><text style=\"fill:rgb(16.1%,15.3%,14.1%);fill-opacity:1.0;font-family:helvetica;font-size:10.0px;font-weight:normal;stroke:none;vertical-align:baseline;white-space:pre\" x=\"-19.459999999999997\" y=\"-4.440892098500626e-16\">5000000</text></g><g transform=\"translate(148.4985311665844,-6)\"><text style=\"fill:rgb(16.1%,15.3%,14.1%);fill-opacity:1.0;font-family:helvetica;font-size:10.0px;font-weight:normal;stroke:none;vertical-align:baseline;white-space:pre\" x=\"-22.24\" y=\"-4.440892098500626e-16\">10000000</text></g></g><g class=\"toyplot-coordinates-Axis-coordinates\" style=\"visibility:hidden\" transform=\"\"><line style=\"stroke:rgb(43.9%,50.2%,56.5%);stroke-opacity:1.0;stroke-width:1.0\" x1=\"0\" x2=\"0\" y1=\"3.0\" y2=\"-4.5\"></line><text style=\"alignment-baseline:hanging;fill:rgb(43.9%,50.2%,56.5%);fill-opacity:1.0;font-size:10px;font-weight:normal;stroke:none;text-anchor:middle\" x=\"0\" y=\"6\"></text></g></g></g></svg><div class=\"toyplot-behavior\"><script>(function()\n",
       "{\n",
       "var modules={};\n",
       "modules[\"toyplot/canvas/id\"] = \"te4a253d3539b42ad9c30bbe82dbfab0a\";\n",
       "modules[\"toyplot/canvas\"] = (function(canvas_id)\n",
       "    {\n",
       "        return document.querySelector(\"#\" + canvas_id);\n",
       "    })(modules[\"toyplot/canvas/id\"]);\n",
       "modules[\"toyplot.coordinates.Axis\"] = (\n",
       "        function(canvas)\n",
       "        {\n",
       "            function sign(x)\n",
       "            {\n",
       "                return x < 0 ? -1 : x > 0 ? 1 : 0;\n",
       "            }\n",
       "\n",
       "            function mix(a, b, amount)\n",
       "            {\n",
       "                return ((1.0 - amount) * a) + (amount * b);\n",
       "            }\n",
       "\n",
       "            function log(x, base)\n",
       "            {\n",
       "                return Math.log(Math.abs(x)) / Math.log(base);\n",
       "            }\n",
       "\n",
       "            function in_range(a, x, b)\n",
       "            {\n",
       "                var left = Math.min(a, b);\n",
       "                var right = Math.max(a, b);\n",
       "                return left <= x && x <= right;\n",
       "            }\n",
       "\n",
       "            function inside(range, projection)\n",
       "            {\n",
       "                for(var i = 0; i != projection.length; ++i)\n",
       "                {\n",
       "                    var segment = projection[i];\n",
       "                    if(in_range(segment.range.min, range, segment.range.max))\n",
       "                        return true;\n",
       "                }\n",
       "                return false;\n",
       "            }\n",
       "\n",
       "            function to_domain(range, projection)\n",
       "            {\n",
       "                for(var i = 0; i != projection.length; ++i)\n",
       "                {\n",
       "                    var segment = projection[i];\n",
       "                    if(in_range(segment.range.bounds.min, range, segment.range.bounds.max))\n",
       "                    {\n",
       "                        if(segment.scale == \"linear\")\n",
       "                        {\n",
       "                            var amount = (range - segment.range.min) / (segment.range.max - segment.range.min);\n",
       "                            return mix(segment.domain.min, segment.domain.max, amount)\n",
       "                        }\n",
       "                        else if(segment.scale[0] == \"log\")\n",
       "                        {\n",
       "                            var amount = (range - segment.range.min) / (segment.range.max - segment.range.min);\n",
       "                            var base = segment.scale[1];\n",
       "                            return sign(segment.domain.min) * Math.pow(base, mix(log(segment.domain.min, base), log(segment.domain.max, base), amount));\n",
       "                        }\n",
       "                    }\n",
       "                }\n",
       "            }\n",
       "\n",
       "            var axes = {};\n",
       "\n",
       "            function display_coordinates(e)\n",
       "            {\n",
       "                var current = canvas.createSVGPoint();\n",
       "                current.x = e.clientX;\n",
       "                current.y = e.clientY;\n",
       "\n",
       "                for(var axis_id in axes)\n",
       "                {\n",
       "                    var axis = document.querySelector(\"#\" + axis_id);\n",
       "                    var coordinates = axis.querySelector(\".toyplot-coordinates-Axis-coordinates\");\n",
       "                    if(coordinates)\n",
       "                    {\n",
       "                        var projection = axes[axis_id];\n",
       "                        var local = current.matrixTransform(axis.getScreenCTM().inverse());\n",
       "                        if(inside(local.x, projection))\n",
       "                        {\n",
       "                            var domain = to_domain(local.x, projection);\n",
       "                            coordinates.style.visibility = \"visible\";\n",
       "                            coordinates.setAttribute(\"transform\", \"translate(\" + local.x + \")\");\n",
       "                            var text = coordinates.querySelector(\"text\");\n",
       "                            text.textContent = domain.toFixed(2);\n",
       "                        }\n",
       "                        else\n",
       "                        {\n",
       "                            coordinates.style.visibility= \"hidden\";\n",
       "                        }\n",
       "                    }\n",
       "                }\n",
       "            }\n",
       "\n",
       "            canvas.addEventListener(\"click\", display_coordinates);\n",
       "\n",
       "            var module = {};\n",
       "            module.show_coordinates = function(axis_id, projection)\n",
       "            {\n",
       "                axes[axis_id] = projection;\n",
       "            }\n",
       "\n",
       "            return module;\n",
       "        })(modules[\"toyplot/canvas\"]);\n",
       "(function(axis, axis_id, projection)\n",
       "        {\n",
       "            axis.show_coordinates(axis_id, projection);\n",
       "        })(modules[\"toyplot.coordinates.Axis\"],\"ta8e3291f10fa4ef2b0da24da23a6f15b\",[{\"domain\": {\"bounds\": {\"max\": Infinity, \"min\": -Infinity}, \"max\": 10937500.0, \"min\": -2104312.499999999}, \"range\": {\"bounds\": {\"max\": Infinity, \"min\": -Infinity}, \"max\": 160.0, \"min\": 0.0}, \"scale\": \"linear\"}]);\n",
       "})();</script></div></div>"
      ]
     },
     "metadata": {},
     "output_type": "display_data"
    }
   ],
   "source": [
    "tree = toytree.rtree.imbtree(ntips=10, treeheight=1e7)\n",
    "tree.draw(ts='p');\n",
    "mod = ipcoal.Model(tree=tree, Ne=1e5, nsamples=2, mut=1e-8, substitution_model={\"kappa\": 0.5})\n",
    "mod.sim_loci(nloci=1, nsites=10000)\n",
    "mod.write_concat_to_phylip(name=\"raxtest\", outdir=\"/tmp\", diploid=True)"
   ]
  },
  {
   "cell_type": "markdown",
   "metadata": {},
   "source": [
    "### Infer a ML tree"
   ]
  },
  {
   "cell_type": "code",
   "execution_count": 20,
   "metadata": {},
   "outputs": [
    {
     "name": "stdout",
     "output_type": "stream",
     "text": [
      "/home/deren/miniconda3/envs/py38/bin/raxmlHPC-PTHREADS-AVX2 -f a -T 4 -m GTRGAMMA -n test -w /home/deren/Documents/ipyrad/testdocs/analysis/analysis-raxml -s /tmp/raxtest.phy -p 54321 -N 10 -x 12345\n",
      "job test finished successfully\n"
     ]
    }
   ],
   "source": [
    "# init raxml object with input data and (optional) parameter options\n",
    "rax = ipa.raxml(data=\"/tmp/raxtest.phy\", T=4, N=10)\n",
    "\n",
    "# print the raxml command string for prosperity\n",
    "print(rax.command)\n",
    "\n",
    "# run the command, (options: block until finishes; overwrite existing)\n",
    "rax.run(block=True, force=True)"
   ]
  },
  {
   "cell_type": "markdown",
   "metadata": {},
   "source": [
    "### Draw the inferred tree\n",
    "After inferring a tree you can then visualize it in a notebook using `toytree`. "
   ]
  },
  {
   "cell_type": "code",
   "execution_count": 37,
   "metadata": {},
   "outputs": [
    {
     "data": {
      "text/html": [
       "<div class=\"toyplot\" id=\"t5308479860d2424e916d6fff9e3c8898\" style=\"text-align:center\"><svg class=\"toyplot-canvas-Canvas\" height=\"275.0px\" id=\"t5b7525107ef744db98acf0bcb2f71ddf\" preserveAspectRatio=\"xMidYMid meet\" style=\"background-color:transparent;border-color:#292724;border-style:none;border-width:1.0;fill:rgb(16.1%,15.3%,14.1%);fill-opacity:1.0;font-family:Helvetica;font-size:12px;opacity:1.0;stroke:rgb(16.1%,15.3%,14.1%);stroke-opacity:1.0;stroke-width:1.0\" viewBox=\"0 0 260.0 275.0\" width=\"260.0px\" xmlns=\"http://www.w3.org/2000/svg\" xmlns:toyplot=\"http://www.sandia.gov/toyplot\" xmlns:xlink=\"http://www.w3.org/1999/xlink\"><g class=\"toyplot-coordinates-Cartesian\" id=\"tdc68de2127eb4629889fe3b34d124dfc\"><clipPath id=\"t55f3e97c77c242d29b943098c724166c\"><rect height=\"215.0\" width=\"200.0\" x=\"30.0\" y=\"30.0\"></rect></clipPath><g clip-path=\"url(#t55f3e97c77c242d29b943098c724166c)\"><g class=\"toytree-mark-Toytree\" id=\"tde8a7ff09812461e8f80884af9d8c736\"><g class=\"toytree-Edges\" style=\"fill:none;stroke:rgb(14.9%,14.9%,14.9%);stroke-linecap:round;stroke-opacity:1;stroke-width:2\"><path d=\"M 64.6 78.0 L 64.6 94.9 L 64.6 94.9\" id=\"18,17\"></path><path d=\"M 64.6 94.9 L 64.6 111.9 L 75.5 111.9\" id=\"17,16\"></path><path d=\"M 75.5 111.9 L 75.5 128.7 L 90.4 128.7\" id=\"16,15\"></path><path d=\"M 90.4 128.7 L 90.4 145.5 L 103.0 145.5\" id=\"15,14\"></path><path d=\"M 103.0 145.5 L 103.0 161.9 L 116.8 161.9\" id=\"14,13\"></path><path d=\"M 116.8 161.9 L 116.8 177.9 L 129.1 177.9\" id=\"13,12\"></path><path d=\"M 129.1 177.9 L 129.1 192.7 L 145.7 192.7\" id=\"12,11\"></path><path d=\"M 145.7 192.7 L 145.7 205.5 L 158.0 205.5\" id=\"11,10\"></path><path d=\"M 64.6 78.0 L 64.6 61.0 L 194.8 61.0\" id=\"18,9\"></path><path d=\"M 64.6 94.9 L 64.6 78.0 L 178.0 78.0\" id=\"17,8\"></path><path d=\"M 75.5 111.9 L 75.5 95.0 L 184.1 95.0\" id=\"16,7\"></path><path d=\"M 90.4 128.7 L 90.4 112.0 L 173.9 112.0\" id=\"15,6\"></path><path d=\"M 103.0 145.5 L 103.0 129.0 L 176.9 129.0\" id=\"14,5\"></path><path d=\"M 116.8 161.9 L 116.8 146.0 L 174.2 146.0\" id=\"13,4\"></path><path d=\"M 129.1 177.9 L 129.1 163.0 L 175.0 163.0\" id=\"12,3\"></path><path d=\"M 145.7 192.7 L 145.7 180.0 L 176.7 180.0\" id=\"11,2\"></path><path d=\"M 158.0 205.5 L 158.0 197.0 L 177.0 197.0\" id=\"10,1\"></path><path d=\"M 158.0 205.5 L 158.0 214.0 L 174.9 214.0\" id=\"10,0\"></path></g><g class=\"toytree-AlignEdges\" style=\"stroke:rgb(66.3%,66.3%,66.3%);stroke-dasharray:2, 4;stroke-linecap:round;stroke-opacity:1.0;stroke-width:2\"><path d=\"M 194.8 214.0 L 174.9 214.0\"></path><path d=\"M 194.8 197.0 L 177.0 197.0\"></path><path d=\"M 194.8 180.0 L 176.7 180.0\"></path><path d=\"M 194.8 163.0 L 175.0 163.0\"></path><path d=\"M 194.8 146.0 L 174.2 146.0\"></path><path d=\"M 194.8 129.0 L 176.9 129.0\"></path><path d=\"M 194.8 112.0 L 173.9 112.0\"></path><path d=\"M 194.8 95.0 L 184.1 95.0\"></path><path d=\"M 194.8 78.0 L 178.0 78.0\"></path><path d=\"M 194.8 61.0 L 194.8 61.0\"></path></g><g class=\"toytree-Nodes\" style=\"fill:rgb(40%,76.1%,64.7%);fill-opacity:1.0;stroke:None;stroke-width:1\"><g id=\"node-0\" transform=\"translate(174.923,213.986)\"><circle r=\"0.0\"></circle></g><g id=\"node-1\" transform=\"translate(177.022,196.989)\"><circle r=\"0.0\"></circle></g><g id=\"node-2\" transform=\"translate(176.717,179.992)\"><circle r=\"0.0\"></circle></g><g id=\"node-3\" transform=\"translate(175.029,162.995)\"><circle r=\"0.0\"></circle></g><g id=\"node-4\" transform=\"translate(174.196,145.998)\"><circle r=\"0.0\"></circle></g><g id=\"node-5\" transform=\"translate(176.920,129.002)\"><circle r=\"0.0\"></circle></g><g id=\"node-6\" transform=\"translate(173.891,112.005)\"><circle r=\"0.0\"></circle></g><g id=\"node-7\" transform=\"translate(184.119,95.008)\"><circle r=\"0.0\"></circle></g><g id=\"node-8\" transform=\"translate(178.020,78.011)\"><circle r=\"0.0\"></circle></g><g id=\"node-9\" transform=\"translate(194.812,61.014)\"><circle r=\"0.0\"></circle></g><g id=\"node-10\" transform=\"translate(158.046,205.488)\"><circle r=\"9.0\"></circle></g><g id=\"node-11\" transform=\"translate(145.742,192.740)\"><circle r=\"9.0\"></circle></g><g id=\"node-12\" transform=\"translate(129.077,177.868)\"><circle r=\"9.0\"></circle></g><g id=\"node-13\" transform=\"translate(116.803,161.933)\"><circle r=\"9.0\"></circle></g><g id=\"node-14\" transform=\"translate(102.971,145.467)\"><circle r=\"9.0\"></circle></g><g id=\"node-15\" transform=\"translate(90.446,128.736)\"><circle r=\"9.0\"></circle></g><g id=\"node-16\" transform=\"translate(75.454,111.872)\"><circle r=\"9.0\"></circle></g><g id=\"node-17\" transform=\"translate(64.644,94.941)\"><circle r=\"9.0\"></circle></g><g id=\"node-18\" transform=\"translate(64.644,77.978)\"><circle r=\"0.0\"></circle></g></g><g class=\"toytree-NodeLabels\" style=\"fill:rgb(14.9%,14.9%,14.9%);fill-opacity:1.0;font-size:9px;stroke:none\"><g transform=\"translate(150.54,207.79)\"><text>100</text></g><g transform=\"translate(138.24,195.04)\"><text>100</text></g><g transform=\"translate(121.57,180.17)\"><text>100</text></g><g transform=\"translate(109.30,164.23)\"><text>100</text></g><g transform=\"translate(95.47,147.77)\"><text>100</text></g><g transform=\"translate(82.94,131.04)\"><text>100</text></g><g transform=\"translate(67.95,114.17)\"><text>100</text></g><g transform=\"translate(57.14,97.24)\"><text>100</text></g></g><g class=\"toytree-TipLabels\" style=\"fill:rgb(14.9%,14.9%,14.9%);fill-opacity:1.0;font-family:helvetica;font-size:11px;font-weight:normal;stroke:none;white-space:pre\"><g transform=\"translate(194.81,213.99)rotate(0)\"><text style=\"\" x=\"15.00\" y=\"2.81\">r1</text></g><g transform=\"translate(194.81,196.99)rotate(0)\"><text style=\"\" x=\"15.00\" y=\"2.81\">r0</text></g><g transform=\"translate(194.81,179.99)rotate(0)\"><text style=\"\" x=\"15.00\" y=\"2.81\">r2</text></g><g transform=\"translate(194.81,163.00)rotate(0)\"><text style=\"\" x=\"15.00\" y=\"2.81\">r3</text></g><g transform=\"translate(194.81,146.00)rotate(0)\"><text style=\"\" x=\"15.00\" y=\"2.81\">r4</text></g><g transform=\"translate(194.81,129.00)rotate(0)\"><text style=\"\" x=\"15.00\" y=\"2.81\">r5</text></g><g transform=\"translate(194.81,112.00)rotate(0)\"><text style=\"\" x=\"15.00\" y=\"2.81\">r6</text></g><g transform=\"translate(194.81,95.01)rotate(0)\"><text style=\"\" x=\"15.00\" y=\"2.81\">r7</text></g><g transform=\"translate(194.81,78.01)rotate(0)\"><text style=\"\" x=\"15.00\" y=\"2.81\">r8</text></g><g transform=\"translate(194.81,61.01)rotate(0)\"><text style=\"\" x=\"15.00\" y=\"2.81\">r9</text></g></g></g></g></g></svg><div class=\"toyplot-behavior\"><script>(function()\n",
       "{\n",
       "var modules={};\n",
       "})();</script></div></div>"
      ]
     },
     "metadata": {},
     "output_type": "display_data"
    }
   ],
   "source": [
    "# load from the .trees attribute of the raxml object, or from the saved tree file\n",
    "tre = toytree.tree(rax.trees.bipartitions)\n",
    "\n",
    "# draw the tree\n",
    "rtre = tre.root(\"r9\", resolve_root_dist=False)\n",
    "rtre.draw(tip_labels_align=True, node_sizes=18, node_labels=\"support\");"
   ]
  },
  {
   "cell_type": "markdown",
   "metadata": {},
   "source": [
    "### Setting parameters\n",
    "\n",
    "By default several parameters are pre-set in the raxml object. To remove those parameters from the command string you can set them to None. Additionally, you can build complex raxml command line strings by adding almost any parameter to the raxml object init, like below. You probably can't do everythin in raxml using this tool, it's only meant as a convenience. You can always of course just write the raxml command line string by hand instead."
   ]
  },
  {
   "cell_type": "code",
   "execution_count": 38,
   "metadata": {},
   "outputs": [
    {
     "data": {
      "text/plain": [
       "N        10                  \n",
       "T        4                   \n",
       "binary   ~/miniconda3/envs/py38/bin/raxmlHPC-PTHREADS-AVX2\n",
       "f        a                   \n",
       "m        GTRGAMMA            \n",
       "n        test                \n",
       "p        54321               \n",
       "s        /tmp/raxtest.phy    \n",
       "w        ~/Documents/ipyrad/testdocs/analysis/analysis-raxml\n",
       "x        12345               "
      ]
     },
     "execution_count": 38,
     "metadata": {},
     "output_type": "execute_result"
    }
   ],
   "source": [
    "# init raxml object\n",
    "rax = ipa.raxml(data=\"/tmp/raxtest.phy\", T=4, N=10)\n",
    "\n",
    "# parameter dictionary for a raxml object\n",
    "rax.params"
   ]
  },
  {
   "cell_type": "code",
   "execution_count": 39,
   "metadata": {},
   "outputs": [
    {
     "data": {
      "text/plain": [
       "bestTree                   ~/Documents/ipyrad/testdocs/analysis/analysis-raxml/RAxML_bestTree.test\n",
       "bipartitions               ~/Documents/ipyrad/testdocs/analysis/analysis-raxml/RAxML_bipartitions.test\n",
       "bipartitionsBranchLabels   ~/Documents/ipyrad/testdocs/analysis/analysis-raxml/RAxML_bipartitionsBranchLabels.test\n",
       "bootstrap                  ~/Documents/ipyrad/testdocs/analysis/analysis-raxml/RAxML_bootstrap.test\n",
       "info                       ~/Documents/ipyrad/testdocs/analysis/analysis-raxml/RAxML_info.test"
      ]
     },
     "execution_count": 39,
     "metadata": {},
     "output_type": "execute_result"
    }
   ],
   "source": [
    "# paths to output files produced by raxml inference\n",
    "rax.trees"
   ]
  },
  {
   "cell_type": "markdown",
   "metadata": {},
   "source": [
    "### Cookbook\n",
    "\n",
    "Most frequently used: perform 100 rapid bootstrap analyses followed by 10 rapid hill-climbing ML searches from random starting trees under the GTRGAMMA substitution model. "
   ]
  },
  {
   "cell_type": "code",
   "execution_count": 41,
   "metadata": {},
   "outputs": [
    {
     "name": "stdout",
     "output_type": "stream",
     "text": [
      "/home/deren/miniconda3/envs/py38/bin/raxmlHPC-PTHREADS-AVX2 -f a -T 8 -m GTRGAMMA -n test -w /home/deren/Documents/ipyrad/testdocs/analysis/analysis-raxml -s /tmp/raxtest.phy -p 54321 -N 50 -x 12345\n",
      "job test finished successfully\n"
     ]
    }
   ],
   "source": [
    "rax = ipa.raxml(\n",
    "    data=\"/tmp/raxtest.phy\",\n",
    "    name=\"test\",\n",
    "    workdir=\"analysis-raxml\",\n",
    "    m=\"GTRGAMMA\",\n",
    "    T=8,\n",
    "    f=\"a\",\n",
    "    N=50,\n",
    ")\n",
    "print(rax.command)\n",
    "rax.run(force=True)"
   ]
  },
  {
   "cell_type": "markdown",
   "metadata": {},
   "source": [
    "Another common option: Perform N rapid hill-climbing ML analyses from random starting trees, with no bootstrap replicates. Be sure to use the `BestTree` output from this analysis since it does not produce a `bipartitions` output file. "
   ]
  },
  {
   "cell_type": "code",
   "execution_count": 42,
   "metadata": {},
   "outputs": [
    {
     "name": "stdout",
     "output_type": "stream",
     "text": [
      "/home/deren/miniconda3/envs/py38/bin/raxmlHPC-PTHREADS-AVX2 -f d -T 8 -m GTRGAMMA -n test -w /home/deren/Documents/ipyrad/testdocs/analysis/analysis-raxml -s /tmp/raxtest.phy -p 54321 -N 10\n",
      "job test finished successfully\n"
     ]
    }
   ],
   "source": [
    "rax = ipa.raxml(\n",
    "    data=\"/tmp/raxtest.phy\",\n",
    "    name=\"test\",\n",
    "    workdir=\"analysis-raxml\",\n",
    "    m=\"GTRGAMMA\",\n",
    "    T=8,\n",
    "    f=\"d\",\n",
    "    N=10,\n",
    "    x=None,\n",
    ")\n",
    "print(rax.command)\n",
    "rax.run(force=True)"
   ]
  }
 ],
 "metadata": {
  "kernelspec": {
   "display_name": "Python 3",
   "language": "python",
   "name": "python3"
  },
  "language_info": {
   "codemirror_mode": {
    "name": "ipython",
    "version": 3
   },
   "file_extension": ".py",
   "mimetype": "text/x-python",
   "name": "python",
   "nbconvert_exporter": "python",
   "pygments_lexer": "ipython3",
   "version": "3.7.8"
  }
 },
 "nbformat": 4,
 "nbformat_minor": 2
}
